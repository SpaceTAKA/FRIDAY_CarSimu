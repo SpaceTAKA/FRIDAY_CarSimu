{
  "nbformat": 4,
  "nbformat_minor": 0,
  "metadata": {
    "colab": {
      "provenance": [],
      "toc_visible": true
    },
    "kernelspec": {
      "name": "python3",
      "display_name": "Python 3"
    },
    "language_info": {
      "name": "python"
    }
  },
  "cells": [
    {
      "cell_type": "markdown",
      "source": [
        "# **Fast ResIdual Dynamics AnalYsis**: Car tracking trajectory case\n"
      ],
      "metadata": {
        "id": "sPIJrprrERxk"
      }
    },
    {
      "cell_type": "markdown",
      "source": [
        "## Function Definitions"
      ],
      "metadata": {
        "id": "cqbI_85KHmcA"
      }
    },
    {
      "cell_type": "markdown",
      "metadata": {
        "id": "hc1S-UP38Y10"
      },
      "source": [
        "### Relu"
      ]
    },
    {
      "cell_type": "code",
      "execution_count": 9,
      "metadata": {
        "id": "VJHEtke38TiK"
      },
      "outputs": [],
      "source": [
        "from numpy.core.multiarray import result_type\n",
        "import matplotlib.pyplot as plt\n",
        "import numpy as np\n",
        "from scipy import linalg\n",
        "\n",
        "class Relu:\n",
        "\n",
        "  def __init__(self):\n",
        "    self.mask=None\n",
        "  def forward(self,x):\n",
        "    self.mask= (x <= 0 )\n",
        "    out=x.copy()\n",
        "    out[self.mask]=0\n",
        "\n",
        "    return out\n",
        "  def backward(self, dout):\n",
        "    dout[self.mask]=0\n",
        "    dx=dout\n",
        "    return dx\n",
        "\n",
        "  \n"
      ]
    },
    {
      "cell_type": "markdown",
      "source": [
        "### Affine"
      ],
      "metadata": {
        "id": "U18GVtYTHyVc"
      }
    },
    {
      "cell_type": "code",
      "execution_count": 10,
      "metadata": {
        "id": "FBeBP7oc9AdZ"
      },
      "outputs": [],
      "source": [
        "class Affine:\n",
        "  def __init__(self, W, b):\n",
        "    self.W=W\n",
        "    self.b=b\n",
        "    self.x=None\n",
        "    self.dW=None\n",
        "    self.db=None\n",
        "\n",
        "  def forward(self, x):\n",
        "    self.x=x\n",
        "    out= np.dot(x,  self.W)+self.b\n",
        "\n",
        "    return out\n",
        "\n",
        "  def backward(self, dout):\n",
        "    dx= np.dot(  dout, self.W.T   )\n",
        "    self.dW= np.dot( self.x.T, dout)\n",
        "    self.db=np.sum(  dout, axis=0)\n",
        "\n",
        "    return dx\n",
        "\n",
        "  \n"
      ]
    },
    {
      "cell_type": "markdown",
      "source": [
        "### L2-norm"
      ],
      "metadata": {
        "id": "hin8tJ0rH37K"
      }
    },
    {
      "cell_type": "code",
      "execution_count": 11,
      "metadata": {
        "id": "dnU4bhJd8q5B"
      },
      "outputs": [],
      "source": [
        "def l2norm( x ):\n",
        "  return np.sqrt(np.sum( (x**2) )) \n"
      ]
    },
    {
      "cell_type": "markdown",
      "source": [
        "### Identy with loss"
      ],
      "metadata": {
        "id": "VG6bSO3tH7Rd"
      }
    },
    {
      "cell_type": "code",
      "execution_count": 12,
      "metadata": {
        "id": "BWE6_x8D9G7j"
      },
      "outputs": [],
      "source": [
        "class IdentitywithLoss:\n",
        "\n",
        "  def __init__(self):\n",
        "      self.loss = None\n",
        "      self.y = None \n",
        "      self.t = None \n",
        "      self.batchsize = None\n",
        "  def forward(self, y,t):\n",
        "    self.y=y\n",
        "    self.t=t\n",
        "    self.batchsize=self.t.shape[0]\n",
        "\n",
        "    self.loss= 0.5*np.sum(    (y-t)**2  ) /(self.batchsize)\n",
        "    return self.loss\n",
        "\n",
        "  def backward(  self, dout=1 ):\n",
        "    dx = (self.y - self.t) / self.batchsize\n",
        "    return dx\n",
        "\n"
      ]
    },
    {
      "cell_type": "markdown",
      "metadata": {
        "id": "VmezVlxz9QPE"
      },
      "source": [
        "### Optimizers(SGD, Momentum, AdaGrad)"
      ]
    },
    {
      "cell_type": "code",
      "execution_count": 13,
      "metadata": {
        "id": "FqMXSVu09QPE"
      },
      "outputs": [],
      "source": [
        "class SGD:\n",
        "  def __init__(self, lr=0.05):\n",
        "    self.lr=lr\n",
        "\n",
        "  def update(self, params, grads):\n",
        "    for key in params.keys():\n",
        "      params[key] -= self.lr*grads[key]"
      ]
    },
    {
      "cell_type": "code",
      "execution_count": 14,
      "metadata": {
        "id": "SI2FFwmr9QPE"
      },
      "outputs": [],
      "source": [
        "class Momentum:\n",
        "  def __init__(self, lr=0.01,  momentum=0.9):\n",
        "    self.lr=lr\n",
        "    self.momentum=momentum\n",
        "    self.v=None\n",
        "  def update(self, params, grads):\n",
        "    if self.v is None:\n",
        "      self.v={}\n",
        "      for key , val  in params.items():\n",
        "        self.v[key]=np.zeros_like(val)\n",
        "    for key in params.keys():\n",
        "      self.v[key] = self.momentum*self.v[key] - self.lr*grads[key]\n",
        "      params[key] +=  self.v[key] \n"
      ]
    },
    {
      "cell_type": "code",
      "execution_count": 15,
      "metadata": {
        "id": "TgJ3ytX79QPF"
      },
      "outputs": [],
      "source": [
        "class AdaGrad:\n",
        "  def __init__(self, lr=0.01):\n",
        "    self.lr=lr\n",
        "    self.h=None\n",
        "  def update(self, params, grads):\n",
        "    if self.h is None:\n",
        "      self.h={}\n",
        "      for key , val  in params.items():\n",
        "        self.h[key]=np.zeros_like(val)\n",
        "\n",
        "    for key in params.keys():\n",
        "      self.h[key] +=  grads[key]*grads[key]\n",
        "      params[key] -=  self.lr*grads[key]/ (np.sqrt(self.h[key] )+1e-7 ) \n",
        "      \n",
        "      "
      ]
    },
    {
      "cell_type": "markdown",
      "metadata": {
        "id": "1H6_3kkK9lVR"
      },
      "source": [
        "### FourLayerNet"
      ]
    },
    {
      "cell_type": "code",
      "source": [
        "from collections import OrderedDict\n",
        "\n",
        "class FourLayerNet:\n",
        "\n",
        "    \n",
        "  def __init__(self, input_size, hidden_size1,hidden_size2, hidden_size3, output_size, weight_init_std=0.01):\n",
        "\n",
        "    self.params={}\n",
        "\n",
        "    self.params[\"W1\"]=np.random.randn(input_size, hidden_size1)*np.sqrt(2 /input_size)\n",
        "    self.params[\"b1\"]=np.zeros(hidden_size1)\n",
        "    self.params[\"W2\"]=np.random.randn( hidden_size1, hidden_size2 )*np.sqrt(2/hidden_size1)\n",
        "    self.params[\"b2\"]=np.zeros(hidden_size2) \n",
        "    self.params[\"W3\"]=np.random.randn( hidden_size2, hidden_size3 )*np.sqrt(2/hidden_size2)\n",
        "    self.params[\"b3\"]=np.zeros(hidden_size3) \n",
        "    self.params[\"W4\"]=np.random.randn( hidden_size3, output_size )*np.sqrt(2/hidden_size3)\n",
        "    self.params[\"b4\"]=np.zeros(output_size)\n",
        "\n",
        "    self.layers =OrderedDict()\n",
        "\n",
        "    self.layers[\"Affine1\"]=Affine(self.params[\"W1\"], self.params[\"b1\"] )\n",
        "    self.layers[\" Relu1\"]=Relu()\n",
        "    self.layers[\"Affine2\"]=Affine(self.params[\"W2\"], self.params[\"b2\"] )\n",
        "    self.layers[\" Relu2\"]=Relu()\n",
        "    self.layers[\"Affine3\"]=Affine(self.params[\"W3\"], self.params[\"b3\"] )\n",
        "    self.layers[\" Relu3\"]=Relu()\n",
        "    self.layers[\"Affine4\"]=Affine(self.params[\"W4\"], self.params[\"b4\"] )\n",
        "    #last activation is identity\n",
        "    self.lastLayer= IdentitywithLoss()\n",
        "    self.losslist=[0]\n",
        "    \n",
        "  def predict( self, x):\n",
        "    for layer in self.layers.values() :\n",
        "      x= layer.forward(x)\n",
        "    \n",
        "    return x\n",
        "  def loss(self, x, t):\n",
        "    y= self.predict(x)\n",
        "    return self.lastLayer.forward( y, t )\n",
        "\n",
        "  \n",
        "  def gradient( self, x, t ):\n",
        "    #forward\n",
        "    LOSS=self.loss( x,t )\n",
        "    self.losslist.append(LOSS)\n",
        "\n",
        "    #backward\n",
        "    dout=1\n",
        "    dout= self.lastLayer.backward(dout) #predict and loss back\n",
        "\n",
        "    layers=list( self.layers.values() ) #reverse process\n",
        "    layers.reverse()\n",
        "\n",
        "    for layer in layers:\n",
        "      dout= layer.backward(dout)   #Affines and Relus back\n",
        "    grads={}\n",
        "    grads[\"W1\"]= self.layers[\"Affine1\"].dW\n",
        "    grads[\"b1\"]= self.layers[\"Affine1\"].db\n",
        "    grads[\"W2\"]= self.layers[\"Affine2\"].dW\n",
        "    grads[\"b2\"]= self.layers[\"Affine2\"].db\n",
        "    grads[\"W3\"]= self.layers[\"Affine3\"].dW\n",
        "    grads[\"b3\"]= self.layers[\"Affine3\"].db\n",
        "    grads[\"W4\"]= self.layers[\"Affine4\"].dW\n",
        "    grads[\"b4\"]= self.layers[\"Affine4\"].db \n",
        "\n",
        "    return grads\n",
        "\n",
        "\n",
        "  "
      ],
      "metadata": {
        "id": "x8ltyhABIQ5E"
      },
      "execution_count": 16,
      "outputs": []
    },
    {
      "cell_type": "markdown",
      "source": [
        "##Main class Definitions"
      ],
      "metadata": {
        "id": "HMDopDdlNi9U"
      }
    },
    {
      "cell_type": "code",
      "source": [
        "import matplotlib.pyplot as plt\n",
        "import numpy as np\n",
        "from scipy import linalg\n",
        "from IPython import display\n",
        "from time import sleep\n",
        "\n",
        "\n",
        "#--------CLASS DEF-----------------\n",
        "class PositioningCar:\n",
        "\n",
        "    def __init__(self,  m, key ):\n",
        "      self.m=m\n",
        "      self.key=key\n",
        "    \n",
        "    def true_dynamics(self, x, u,t  ):\n",
        "     \n",
        "      g=9.81\n",
        "\n",
        "      pos=x[0]\n",
        "      vel=x[1]    \n",
        "\n",
        "      dx= np.zeros(2)\n",
        "      dx[0]= vel\n",
        "\n",
        "\n",
        "      #Param-truth \n",
        "      if self.key==\"param\":\n",
        "        m_ti=self.m  +  9*self.m*(1- np.exp(-t/100) )\n",
        "        lambda_ti=np.exp(-t/100)\n",
        "        dx[1]=  ( lambda_ti*u )/m_ti \n",
        "        \n",
        "      #Multi-truth\n",
        "      if self.key==\"multi\":\n",
        "        dx[1]=  ( (1+vel**2)*u +   pos**2  + vel*abs(u)   )/self.m \n",
        "        \n",
        "     \n",
        "      #Enviro-truth\n",
        "      if self.key==\"enviro\":\n",
        "        f_air= 0.6*vel**2*np.sin(vel) \n",
        "        f_roll=  -np.sign(vel)*m*g*(  0.2*(  1 -  np.exp(-0.5*abs(vel))   )   + 0.08*abs(vel)       )\n",
        "        f_duff=0.5*pos + 0.3*pos**3\n",
        "        dx[1]=  (  0.6*u  - f_air -f_roll  - f_duff  )/self.m \n",
        "        \n",
        "      \n",
        "      \n",
        "    \n",
        "    \n",
        "\n",
        "      return dx\n",
        "\n",
        "\n",
        "\n",
        "    def model_matrix(self):\n",
        "      \n",
        "      A=np.array([\n",
        "        [0,1],\n",
        "        [0,0]\n",
        "      ])\n",
        "\n",
        "      B=np.array([\n",
        "                   [0],\n",
        "                   [ 1 /self.m]\n",
        "      ])\n",
        "\n",
        "      return A, B\n",
        "\n",
        "    def lqr(A,B,Q,R):\n",
        "      \n",
        "      P = linalg.solve_continuous_are(A,B,Q,R)\n",
        "      K=linalg.inv(R).dot(B.T).dot(P)\n",
        "      E= linalg.eigvals(A-B.dot(K))\n",
        "\n",
        "      return K\n",
        "\n",
        "\n",
        "    def plot_graph(t, data,data2, data3,data4 ,lbls, scls, fig):\n",
        "\n",
        "      nrow=int(np.ceil(data.shape[1]/2)) \n",
        "      ncol=min(data.shape[1],2) \n",
        "      ymin=min(min(data[:,0]),min(data2[:,0]),min(data3[:,0]),min(data4[:,0]) )-0.1\n",
        "      ymax=max(max(data[:,0]),max(data2[:,0]),max(data3[:,0]),max(data4[:,0]) )+0.1\n",
        "  \n",
        "      ax=fig.add_subplot(nrow,ncol,1)\n",
        "      \n",
        "      ax.plot(t,data3[:,0]*scls[0],color=\"darkorange\", label=\"FRIDAY\")\n",
        "      ax.plot(t,data4[:,0]*scls[0],color=\"green\",label=\"Reference\", linestyle =\"--\")\n",
        "      ax.legend(bbox_to_anchor=(0.9, 0.3), loc='lower right', borderaxespad=1, fontsize=12)\n",
        "      ax.set_xlabel(\"Time[s]\")\n",
        "      ax.set_ylabel(lbls[0])\n",
        "      ax.grid()\n",
        "      ax.set_xlim(t[0],t[-1])\n",
        "      ax.set_ylim(ymin,ymax)\n",
        "\n",
        "      plt.tight_layout()\n",
        "\n",
        "      bx=fig.add_subplot(nrow,ncol,2) \n",
        "      bx.plot(t,data[:,0]*scls[0],color = \"dodgerblue\",label=\"State Feedback\")\n",
        "      bx.plot(t,data2[:,0]*scls[0],color = \"salmon\", label=\"MRAC\")\n",
        "      bx.plot(t,data4[:,0]*scls[0],color=\"green\" , linestyle =\"--\")\n",
        "      bx.legend(bbox_to_anchor=(1, 0.3), loc='lower right', borderaxespad=1, fontsize=12)\n",
        "      bx.set_xlabel(\"Time[s]\")\n",
        "      bx.set_ylabel(lbls[0])\n",
        "      bx.grid()\n",
        "      bx.set_xlim(t[0],t[-1])\n",
        "      bx.set_ylim(ymin,ymax)\n",
        "      plt.tight_layout()\n",
        "      \n",
        "    \n",
        "\n"
      ],
      "metadata": {
        "id": "lwCqdwxTGzCN"
      },
      "execution_count": 31,
      "outputs": []
    },
    {
      "cell_type": "markdown",
      "source": [
        "## Main loop"
      ],
      "metadata": {
        "id": "FAmAZ_puInD-"
      }
    },
    {
      "cell_type": "code",
      "source": [
        "#------common parameters-----------\n",
        "m=1.5\n",
        "car=PositioningCar(m, \"enviro\")\n",
        "A, B = car.model_matrix()\n",
        "Q=np.diag([20,5])\n",
        "R=np.eye(1)   \n",
        "K = PositioningCar.lqr(A,B,Q,R) \n",
        "\n",
        "\n",
        "T=120\n",
        "dt=0.050 \n",
        "t=np.arange(0,T,dt)\n",
        "\n",
        "pr=0\n",
        "vr=0\n",
        "ur=0\n",
        "Cycle =50\n",
        "r = np.zeros([len(t), 2])\n",
        "\n",
        "\n",
        "#----SF parameters-------\n",
        "x_sf = np.zeros([len(t), 2])\n",
        "u_sf = np.zeros([len(t), 1])\n",
        "\n",
        "#----MRAC parameters-----\n",
        "x_mrac = np.zeros([len(t), 2])\n",
        "x_r = np.zeros([len(t), 2])\n",
        "u_mrac = np.zeros([len(t), 1])\n",
        "u_a = np.zeros([len(t), 1])\n",
        "u_n = np.zeros([len(t), 1])\n",
        "\n",
        "Ar= A-B@K\n",
        "Br=B@K\n",
        "\n",
        "W_hat= np.array([0,0,0 ])\n",
        "gamma=0.03\n",
        "sigma=0\n",
        "\n",
        "\n",
        "#----FRIDAY parameters--------\n",
        "invB = (1/m)**(-1)\n",
        "LipR= (m)**(1/4)\n",
        "\n",
        "x_fri = np.zeros([len(t), 2])\n",
        "u_fri = np.zeros([len(t), 1])\n",
        "\n",
        "Inputs =np.zeros([len(t), 3])\n",
        "Residual = np.zeros([len(t), 1])\n",
        "\n",
        "\n",
        "batch_size=100\n",
        "\n",
        "NN=FourLayerNet(3, 50,50,50, 1)\n",
        "optimizer= Momentum()\n",
        "\n",
        "prelist = np.zeros([len(t), 1])\n",
        "\n",
        "u1= np.random.randn(3, 1)\n",
        "v1= np.random.randn(50, 1)\n",
        "\n",
        "u2= np.random.randn(50, 1)\n",
        "v2= np.random.randn(50, 1)\n",
        "\n",
        "u3= np.random.randn(50, 1)\n",
        "v3= np.random.randn(50, 1)\n",
        "\n",
        "u4= np.random.randn(50, 1)\n",
        "v4= np.random.randn(1, 1)\n",
        "\n",
        "\n",
        "#----------RUN------------------------\n",
        "\n",
        "for i in range(1, len(t) ):\n",
        "  #Setpoint Regulation Test\n",
        "  \"\"\"\n",
        "  pr=1\n",
        "  vr=0\n",
        "  ur=0\n",
        "  \"\"\"\n",
        "  #Tracking Trajectory Test\n",
        "  \n",
        "  omega=2*np.pi/Cycle\n",
        "  pr= np.sin(    omega*t[i]  )\n",
        "  dpr=omega* np.cos( omega*t[i] )\n",
        "  ur = - m*omega**2*np.sin(omega*t[i])\n",
        "  \n",
        "\n",
        "  \n",
        "  \n",
        "  r[i,:] = np.array([ pr,vr ])\n",
        "  dist=1*np.random.randn(1)\n",
        "\n",
        "#---------States Feedback Controller---------------------\n",
        "  u_sf[i]= -np.dot(K,x_sf[i-1,:]-r[i,:]) + ur  #1. Decide control input\n",
        "\n",
        "  dx_sf  = car.true_dynamics(x_sf[i-1, :], u_sf[i]+dist , t[i] ) #2. Input to unknown dynamics and get dx\n",
        "\n",
        "  x_sf[i,:]=x_sf[i-1,:]+ dx_sf*dt #3. Update state\n",
        "\n",
        "#-------Model Reference Adaptive Controller------------\n",
        "\n",
        "  u_n[i]= -np.dot(K,x_mrac[i-1,:]-r[i,:]) + ur\n",
        "\n",
        "  sigma= np.append(  x_mrac[i-1,:],  u_n[i]  ) #ADAPT\n",
        "  dW= gamma*sigma*(e@P@B)\n",
        "  W_hat =W_hat + dW*dt\n",
        "  u_a[i] = - W_hat@sigma\n",
        "  \n",
        "  u_mrac[i] = u_n[i] + u_a[i] #1. Decide control input\n",
        "\n",
        "  dx_mrac = car.true_dynamics(x_mrac[i-1, :], u_mrac[i]+dist, t[i] )  #2. Input to unknown dynamics and get dx\n",
        "  dx_r =  Ar@x_r[i-1, :] +   Br@r[i,:]  + B.T*ur\n",
        "\n",
        "  x_mrac[i,:]=x_mrac[i-1,:]+ dx_mrac*dt #3. Update state\n",
        "  x_r[i,:]=x_r[i-1,:]+ dx_r*dt\n",
        "\n",
        "#-----------Fast ResIdual Dynamics AnalYsis Controller---------------\n",
        " \n",
        "\n",
        "  pastdata= np.append(x_fri[i-1,:] , u_fri[i-1]) \n",
        "  R_hat =NN.predict( pastdata ) #GUESS\n",
        "  prelist[i] = R_hat\n",
        "\n",
        "  u_fri[i]=  -np.dot(K,x_fri[i-1,:]-r[i,:] )  + ur - invB*R_hat   #1. Decide control input\n",
        "\n",
        "  dx_fri  = car.true_dynamics(x_fri[i-1, :], u_fri[i]+dist , t[i] )  #2. Input to unknown dynamics and get dx\n",
        "  \n",
        "  x_fri[i,:]=x_fri[i-1,:]+ dx_fri*dt #3. Update state\n",
        "\n",
        "  Inputs[i,:]=np.append(x_fri[i-1,:] , u_fri[i] ) #LEARN\n",
        "  Residual[i] = dx_fri[1]  - 1/m* u_fri[i]\n",
        "\n",
        "  batch_mask=np.random.choice(i , batch_size)\n",
        "  x_batch=Inputs[batch_mask]\n",
        "  t_batch= Residual[batch_mask]\n",
        "\n",
        "  v1=  (NN.params[\"W1\"].T@u1) /  l2norm( NN.params[\"W1\"].T@u1) \n",
        "  u1= (NN.params[\"W1\"]@v1 )/ l2norm(  NN.params[\"W1\"]@v1  )\n",
        "  sigma1 = u1.T@NN.params[\"W1\"]@v1\n",
        "  NN.params[\"W1\"]  *= LipR/sigma1\n",
        "\n",
        "  v2=  (NN.params[\"W2\"].T@u2) /  l2norm( NN.params[\"W2\"].T@u2)\n",
        "  u2= (NN.params[\"W2\"]@v2 )/ l2norm(  NN.params[\"W2\"]@v2  )\n",
        "  sigma2 = u2.T@NN.params[\"W2\"]@v2\n",
        "  NN.params[\"W2\"]  *= LipR/sigma2\n",
        "\n",
        "  v3=  (NN.params[\"W3\"].T@u3) /  l2norm( NN.params[\"W3\"].T@u3)\n",
        "  u3= (NN.params[\"W3\"]@v3 )/ l2norm(  NN.params[\"W3\"]@v3  )\n",
        "  sigma3 = u3.T@NN.params[\"W3\"]@v3\n",
        "  NN.params[\"W3\"]  *= LipR/sigma3\n",
        "\n",
        "  v4=  (NN.params[\"W4\"].T@u4) /  l2norm( NN.params[\"W4\"].T@u4)\n",
        "  u4= (NN.params[\"W4\"]@v4 )/ l2norm(  NN.params[\"W4\"]@v4  )\n",
        "  sigma4 = u4.T@NN.params[\"W4\"]@v4\n",
        "  NN.params[\"W4\"]  *= LipR/sigma4\n",
        "\n",
        "\n",
        "  grads=NN.gradient(x_batch, t_batch) \n",
        "  params=NN.params\n",
        "  optimizer.update(params, grads)\n",
        "  \n",
        "#--------------PLOT---------------\n",
        "\n",
        "plt.close(\"all\")\n",
        "\n",
        "lbls= ('position [m]', 'velosity [m/s]')\n",
        "scls = (1, 1)\n",
        "base_fig = plt.figure()\n",
        "PositioningCar.plot_graph(t,  x_sf, x_mrac,x_fri, x_r ,lbls, scls, base_fig)\n",
        "\n",
        "plt.show()\n",
        "\n",
        "FRI=abs(x_fri[:,0]- x_r[:,0])\n",
        "print(\"pos_fri_error=\",np.average( FRI))\n",
        "SF=abs(x_sf[:,0]- x_r[:,0])\n",
        "print(\"pos_sf_error=\",np.average( SF ))\n",
        "MRAC=abs(x_mrac[:,0]- x_r[:,0])\n",
        "print(\"pos_mrac_error=\",np.average( MRAC ))\n"
      ],
      "metadata": {
        "colab": {
          "base_uri": "https://localhost:8080/",
          "height": 349
        },
        "id": "AW-1eLG6Id9y",
        "outputId": "4d537753-0838-4b7a-910a-5d5a438be78d"
      },
      "execution_count": 32,
      "outputs": [
        {
          "output_type": "display_data",
          "data": {
            "text/plain": [
              "<Figure size 432x288 with 2 Axes>"
            ],
            "image/png": "[encoded data removed]"
          },
          "metadata": {
            "needs_background": "light"
          }
        },
        {
          "output_type": "stream",
          "name": "stdout",
          "text": [
            "pos_fri_error= 0.03232556569672525\n",
            "pos_sf_error= 0.19811041855657496\n",
            "pos_mrac_error= 0.0786028419587622\n"
          ]
        }
      ]
    },
    {
      "cell_type": "markdown",
      "source": [
        "### Prediction Performance\n"
      ],
      "metadata": {
        "id": "KnYBjOVOHG5z"
      }
    },
    {
      "cell_type": "code",
      "source": [
        "from scipy.ndimage import gaussian_filter1d\n",
        "\n",
        "v = np.ones(10)/10          \n",
        "y1 = np.convolve(Residual[:,0], v, mode='same')   #moving average of residual dynamics\n",
        "pre1=prelist\n",
        "plt.plot(t, y1, label=\"Avarage Residual Dynamics\")\n",
        "plt.plot(t, pre1, color=\"darkorange\", marker=\".\",label=\"FRIDAY DNN Prediction\") #plot\n",
        "\n",
        "plt.legend(bbox_to_anchor=(0, 1), loc='upper left', borderaxespad=1, fontsize=10)\n",
        "plt.show()"
      ],
      "metadata": {
        "colab": {
          "base_uri": "https://localhost:8080/",
          "height": 266
        },
        "id": "jBQwT3flG8NJ",
        "outputId": "d870fbb1-a3df-41eb-aff8-ca841c14ffbc"
      },
      "execution_count": 30,
      "outputs": [
        {
          "output_type": "display_data",
          "data": {
            "text/plain": [
              "<Figure size 432x288 with 1 Axes>"
            ],
            "image/png": "[encoded data removed]"
          },
          "metadata": {
            "needs_background": "light"
          }
        }
      ]
    },
    {
      "cell_type": "code",
      "source": [],
      "metadata": {
        "id": "411Ph_gcL17x"
      },
      "execution_count": null,
      "outputs": []
    }
  ]
}